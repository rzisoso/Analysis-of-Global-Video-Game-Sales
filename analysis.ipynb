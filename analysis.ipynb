{
 "cells": [
  {
   "cell_type": "markdown",
   "id": "25192973-4565-41ef-bd40-20a7d1123f8a",
   "metadata": {},
   "source": [
    "# Analysis of Global Video Game Sales"
   ]
  },
  {
   "cell_type": "code",
   "execution_count": 1,
   "id": "e7895dd6-5a32-48ea-80b0-2c9bc2f88f42",
   "metadata": {},
   "outputs": [],
   "source": [
    "import pandas as pd\n",
    "import numpy as np\n",
    "import matplotlib.pyplot as plt\n",
    "import seaborn as sns"
   ]
  },
  {
   "cell_type": "code",
   "execution_count": 2,
   "id": "fd0a661c-0f08-44d6-84f8-5493dfe82425",
   "metadata": {},
   "outputs": [],
   "source": [
    "df = pd.read_csv('vgsales.csv')"
   ]
  },
  {
   "cell_type": "code",
   "execution_count": 3,
   "id": "17754957-4ff0-4124-9819-10a8cbed0788",
   "metadata": {},
   "outputs": [
    {
     "data": {
      "text/html": [
       "<div>\n",
       "<style scoped>\n",
       "    .dataframe tbody tr th:only-of-type {\n",
       "        vertical-align: middle;\n",
       "    }\n",
       "\n",
       "    .dataframe tbody tr th {\n",
       "        vertical-align: top;\n",
       "    }\n",
       "\n",
       "    .dataframe thead th {\n",
       "        text-align: right;\n",
       "    }\n",
       "</style>\n",
       "<table border=\"1\" class=\"dataframe\">\n",
       "  <thead>\n",
       "    <tr style=\"text-align: right;\">\n",
       "      <th></th>\n",
       "      <th>Rank</th>\n",
       "      <th>Name</th>\n",
       "      <th>Platform</th>\n",
       "      <th>Year</th>\n",
       "      <th>Genre</th>\n",
       "      <th>Publisher</th>\n",
       "      <th>NA_Sales</th>\n",
       "      <th>EU_Sales</th>\n",
       "      <th>JP_Sales</th>\n",
       "      <th>Other_Sales</th>\n",
       "      <th>Global_Sales</th>\n",
       "    </tr>\n",
       "  </thead>\n",
       "  <tbody>\n",
       "    <tr>\n",
       "      <th>0</th>\n",
       "      <td>1</td>\n",
       "      <td>Wii Sports</td>\n",
       "      <td>Wii</td>\n",
       "      <td>2006.0</td>\n",
       "      <td>Sports</td>\n",
       "      <td>Nintendo</td>\n",
       "      <td>41.49</td>\n",
       "      <td>29.02</td>\n",
       "      <td>3.77</td>\n",
       "      <td>8.46</td>\n",
       "      <td>82.74</td>\n",
       "    </tr>\n",
       "    <tr>\n",
       "      <th>1</th>\n",
       "      <td>2</td>\n",
       "      <td>Super Mario Bros.</td>\n",
       "      <td>NES</td>\n",
       "      <td>1985.0</td>\n",
       "      <td>Platform</td>\n",
       "      <td>Nintendo</td>\n",
       "      <td>29.08</td>\n",
       "      <td>3.58</td>\n",
       "      <td>6.81</td>\n",
       "      <td>0.77</td>\n",
       "      <td>40.24</td>\n",
       "    </tr>\n",
       "    <tr>\n",
       "      <th>2</th>\n",
       "      <td>3</td>\n",
       "      <td>Mario Kart Wii</td>\n",
       "      <td>Wii</td>\n",
       "      <td>2008.0</td>\n",
       "      <td>Racing</td>\n",
       "      <td>Nintendo</td>\n",
       "      <td>15.85</td>\n",
       "      <td>12.88</td>\n",
       "      <td>3.79</td>\n",
       "      <td>3.31</td>\n",
       "      <td>35.82</td>\n",
       "    </tr>\n",
       "    <tr>\n",
       "      <th>3</th>\n",
       "      <td>4</td>\n",
       "      <td>Wii Sports Resort</td>\n",
       "      <td>Wii</td>\n",
       "      <td>2009.0</td>\n",
       "      <td>Sports</td>\n",
       "      <td>Nintendo</td>\n",
       "      <td>15.75</td>\n",
       "      <td>11.01</td>\n",
       "      <td>3.28</td>\n",
       "      <td>2.96</td>\n",
       "      <td>33.00</td>\n",
       "    </tr>\n",
       "    <tr>\n",
       "      <th>4</th>\n",
       "      <td>5</td>\n",
       "      <td>Pokemon Red/Pokemon Blue</td>\n",
       "      <td>GB</td>\n",
       "      <td>1996.0</td>\n",
       "      <td>Role-Playing</td>\n",
       "      <td>Nintendo</td>\n",
       "      <td>11.27</td>\n",
       "      <td>8.89</td>\n",
       "      <td>10.22</td>\n",
       "      <td>1.00</td>\n",
       "      <td>31.37</td>\n",
       "    </tr>\n",
       "  </tbody>\n",
       "</table>\n",
       "</div>"
      ],
      "text/plain": [
       "   Rank                      Name Platform    Year         Genre Publisher  \\\n",
       "0     1                Wii Sports      Wii  2006.0        Sports  Nintendo   \n",
       "1     2         Super Mario Bros.      NES  1985.0      Platform  Nintendo   \n",
       "2     3            Mario Kart Wii      Wii  2008.0        Racing  Nintendo   \n",
       "3     4         Wii Sports Resort      Wii  2009.0        Sports  Nintendo   \n",
       "4     5  Pokemon Red/Pokemon Blue       GB  1996.0  Role-Playing  Nintendo   \n",
       "\n",
       "   NA_Sales  EU_Sales  JP_Sales  Other_Sales  Global_Sales  \n",
       "0     41.49     29.02      3.77         8.46         82.74  \n",
       "1     29.08      3.58      6.81         0.77         40.24  \n",
       "2     15.85     12.88      3.79         3.31         35.82  \n",
       "3     15.75     11.01      3.28         2.96         33.00  \n",
       "4     11.27      8.89     10.22         1.00         31.37  "
      ]
     },
     "execution_count": 3,
     "metadata": {},
     "output_type": "execute_result"
    }
   ],
   "source": [
    "df.head()"
   ]
  },
  {
   "cell_type": "code",
   "execution_count": 4,
   "id": "9c7b4b51-b1f5-49e5-885b-942fe6e77f1e",
   "metadata": {},
   "outputs": [
    {
     "name": "stdout",
     "output_type": "stream",
     "text": [
      "<class 'pandas.core.frame.DataFrame'>\n",
      "RangeIndex: 16598 entries, 0 to 16597\n",
      "Data columns (total 11 columns):\n",
      " #   Column        Non-Null Count  Dtype  \n",
      "---  ------        --------------  -----  \n",
      " 0   Rank          16598 non-null  int64  \n",
      " 1   Name          16598 non-null  object \n",
      " 2   Platform      16598 non-null  object \n",
      " 3   Year          16327 non-null  float64\n",
      " 4   Genre         16598 non-null  object \n",
      " 5   Publisher     16540 non-null  object \n",
      " 6   NA_Sales      16598 non-null  float64\n",
      " 7   EU_Sales      16598 non-null  float64\n",
      " 8   JP_Sales      16598 non-null  float64\n",
      " 9   Other_Sales   16598 non-null  float64\n",
      " 10  Global_Sales  16598 non-null  float64\n",
      "dtypes: float64(6), int64(1), object(4)\n",
      "memory usage: 1.4+ MB\n"
     ]
    }
   ],
   "source": [
    "df.info()"
   ]
  },
  {
   "cell_type": "code",
   "execution_count": 5,
   "id": "d411c28d-2d27-416f-9992-749945acc99d",
   "metadata": {},
   "outputs": [
    {
     "data": {
      "text/plain": [
       "Rank              0\n",
       "Name              0\n",
       "Platform          0\n",
       "Year            271\n",
       "Genre             0\n",
       "Publisher        58\n",
       "NA_Sales          0\n",
       "EU_Sales          0\n",
       "JP_Sales          0\n",
       "Other_Sales       0\n",
       "Global_Sales      0\n",
       "dtype: int64"
      ]
     },
     "execution_count": 5,
     "metadata": {},
     "output_type": "execute_result"
    }
   ],
   "source": [
    "df.isnull().sum()"
   ]
  },
  {
   "cell_type": "markdown",
   "id": "1da0fd26-af67-42a1-90f8-423c61a8bf08",
   "metadata": {},
   "source": [
    "## Data Cleaning"
   ]
  },
  {
   "cell_type": "markdown",
   "id": "1c1449c7-78b1-44af-b6d4-f0b4ef10e659",
   "metadata": {},
   "source": [
    "The dataset has a small number of missing values in the 'Year' and 'Publisher' columns (less than 2% of the total data). For this analysis, the simplest and most effective strategy is to drop these rows to ensure data integrity."
   ]
  },
  {
   "cell_type": "code",
   "execution_count": 6,
   "id": "2b265f3f-1c5b-48a3-96ba-d0878e488673",
   "metadata": {},
   "outputs": [],
   "source": [
    "df.dropna(inplace=True)"
   ]
  },
  {
   "cell_type": "code",
   "execution_count": 7,
   "id": "89fae6a2-c0a3-4748-b98c-99ca8bdcdae8",
   "metadata": {},
   "outputs": [],
   "source": [
    "df['Year'] = df['Year'].astype(int)"
   ]
  },
  {
   "cell_type": "code",
   "execution_count": 8,
   "id": "0095e542-de57-4a97-bd98-f1ab2520869e",
   "metadata": {},
   "outputs": [
    {
     "data": {
      "text/plain": [
       "Rank            0\n",
       "Name            0\n",
       "Platform        0\n",
       "Year            0\n",
       "Genre           0\n",
       "Publisher       0\n",
       "NA_Sales        0\n",
       "EU_Sales        0\n",
       "JP_Sales        0\n",
       "Other_Sales     0\n",
       "Global_Sales    0\n",
       "dtype: int64"
      ]
     },
     "execution_count": 8,
     "metadata": {},
     "output_type": "execute_result"
    }
   ],
   "source": [
    "df.isnull().sum()"
   ]
  },
  {
   "cell_type": "markdown",
   "id": "fc3ac0a5-686a-4aab-9858-355a3e38fbb3",
   "metadata": {
    "scrolled": true
   },
   "source": [
    "## Q1: Which gaming platform is the best-selling platform in history?"
   ]
  },
  {
   "cell_type": "code",
   "execution_count": 9,
   "id": "c28b3df3-8871-4bd0-adc9-2df5a3c11404",
   "metadata": {},
   "outputs": [
    {
     "data": {
      "text/plain": [
       "Platform\n",
       "PS2     1233.46\n",
       "X360     969.60\n",
       "PS3      949.35\n",
       "Wii      909.81\n",
       "DS       818.91\n",
       "PS       727.39\n",
       "GBA      305.62\n",
       "PSP      291.71\n",
       "PS4      278.10\n",
       "PC       254.70\n",
       "Name: Global_Sales, dtype: float64"
      ]
     },
     "execution_count": 9,
     "metadata": {},
     "output_type": "execute_result"
    }
   ],
   "source": [
    "platform_sales = df.groupby('Platform')['Global_Sales'].sum().sort_values(ascending=False).head(10)\n",
    "platform_sales"
   ]
  },
  {
   "cell_type": "code",
   "execution_count": 10,
   "id": "3a053308-7323-44d6-9463-dfb2b55888d5",
   "metadata": {},
   "outputs": [
    {
     "data": {
      "image/png": "[encoded data removed]",
      "text/plain": [
       "<Figure size 1200x600 with 1 Axes>"
      ]
     },
     "metadata": {},
     "output_type": "display_data"
    }
   ],
   "source": [
    "plt.figure(figsize=(12, 6))\n",
    "sns.barplot(x=platform_sales.index, y=platform_sales.values)\n",
    "plt.title('Top 10 Gaming Platforms by Global Sales (in Millions)')\n",
    "plt.ylabel('Global Sales')\n",
    "plt.show()"
   ]
  },
  {
   "cell_type": "markdown",
   "id": "481a52ba-4a6a-4f7e-bf8f-322e42b8f982",
   "metadata": {},
   "source": [
    "> **Conclusion for Q1:**\n",
    "> The analysis shows that the PlayStation 2 (PS2) is the best-selling platform of all time."
   ]
  },
  {
   "cell_type": "markdown",
   "id": "308a32b3-d7a8-400d-8bae-e2c507af92cb",
   "metadata": {},
   "source": [
    "## Q2： What are the most popular gaming platforms in Europe and North America?"
   ]
  },
  {
   "cell_type": "code",
   "execution_count": 11,
   "id": "a62c9245-a152-4d46-9b91-197d40d8e961",
   "metadata": {},
   "outputs": [
    {
     "name": "stdout",
     "output_type": "stream",
     "text": [
      "--- Top 10 Platform in North America (in Millions) ---\n",
      "Platform\n",
      "X360    594.33\n",
      "PS2     572.92\n",
      "Wii     497.37\n",
      "PS3     388.90\n",
      "DS      388.53\n",
      "PS      334.71\n",
      "XB      182.06\n",
      "GBA     178.43\n",
      "N64     138.91\n",
      "GC      131.94\n",
      "Name: NA_Sales, dtype: float64\n",
      "--- Top 10 Platform in Europe (in Millions) ---\n",
      "Platform\n",
      "PS3     340.47\n",
      "PS2     332.63\n",
      "X360    278.00\n",
      "Wii     264.35\n",
      "PS      212.38\n",
      "DS      194.05\n",
      "PC      137.35\n",
      "PS4     123.70\n",
      "GBA      72.49\n",
      "PSP      67.16\n",
      "Name: EU_Sales, dtype: float64\n"
     ]
    }
   ],
   "source": [
    "na_platform_sales = df.groupby('Platform')['NA_Sales'].sum().sort_values(ascending=False).head(10)\n",
    "eu_platform_sales = df.groupby('Platform')['EU_Sales'].sum().sort_values(ascending=False).head(10)\n",
    "\n",
    "print(\"--- Top 10 Platform in North America (in Millions) ---\")\n",
    "print(na_platform_sales)\n",
    "\n",
    "print(\"--- Top 10 Platform in Europe (in Millions) ---\")\n",
    "print(eu_platform_sales)"
   ]
  },
  {
   "cell_type": "code",
   "execution_count": 12,
   "id": "f5637be3-3aaa-4b19-8fa8-fba19b8bb9e7",
   "metadata": {},
   "outputs": [
    {
     "data": {
      "image/png": "[encoded data removed]",
      "text/plain": [
       "<Figure size 1800x800 with 2 Axes>"
      ]
     },
     "metadata": {},
     "output_type": "display_data"
    }
   ],
   "source": [
    "# Find the overall maximum sales value across both regions to set a common y-axis limit\n",
    "# Add a little padding(10%) so the tallest bar doesn't touch the top of the chart\n",
    "max_sales = max(na_platform_sales.max(), eu_platform_sales.max()) * 1.1 \n",
    "\n",
    "# Create a figure with two subplots(side-by-side)\n",
    "fig, axes = plt.subplots(1, 2, figsize=(18,8))\n",
    "\n",
    "# Plot for North America\n",
    "sns.barplot(ax=axes[0], x=na_platform_sales.index, y=na_platform_sales.values)\n",
    "axes[0].set_title('Top 10 Platforms in North America')\n",
    "axes[0].set_ylabel('Sales (in Millions)')\n",
    "axes[0].tick_params(axis='x', rotation=45) # Rotate labels for better readability\n",
    "axes[0].set_ylim(0, max_sales)\n",
    "\n",
    "# Plot for Europe\n",
    "sns.barplot(ax=axes[1], x=eu_platform_sales.index, y=eu_platform_sales.values)\n",
    "axes[1].set_title('Top 10 Platforms in Europe')\n",
    "axes[1].set_ylabel('Sales (in Millions)')\n",
    "axes[1].tick_params(axis='x', rotation=45)\n",
    "axes[1].set_ylim(0, max_sales)\n",
    "\n",
    "#Display the plots\n",
    "plt.tight_layout() # Adjust layout to prevent labels overlapping\n",
    "plt.show()"
   ]
  },
  {
   "cell_type": "markdown",
   "id": "d9123cb5-2835-475b-984b-20165ff0c829",
   "metadata": {},
   "source": [
    "> **Conclusion for Q2:**\n",
    "> The analysis of the top 10 best-selling platforms in North America and Europe reveals both shared global trends and distinct regional preferences."
   ]
  },
  {
   "cell_type": "markdown",
   "id": "dfa9a81f-0704-43f9-806e-3b0252aef4dd",
   "metadata": {},
   "source": [
    "> Shared Dominance: A key similarity is that the top six platforms are identical in both regions, merely in a different order (PS2, PS3, X360, Wii, DS, and PS). This highlights the massive global success of these particular console generations."
   ]
  },
  {
   "cell_type": "markdown",
   "id": "6ce0e62a-5dc6-4fc8-ac27-b33d38c5e846",
   "metadata": {},
   "source": [
    "> Difference 1: The Battle for #1: The most significant difference lies at the very top. In North America, Microsoft's Xbox 360 is the clear market leader. In Europe, Sony's PlayStation 3 holds the top spot. This points to a strong regional preference, with the Xbox brand being more dominant in North America and PlayStation leading in Europe."
   ]
  },
  {
   "cell_type": "markdown",
   "id": "d8808d90-cfa5-4769-a15e-d1597ae57df5",
   "metadata": {},
   "source": [
    "> Difference 2: Unique Market Tastes: The lower half of the top 10 shows different gaming cultures. The European list uniquely includes PC gaming, the modern PS4, and the handheld PSP, suggesting a diverse market with strong PC and portable gaming segments. The North American list, by contrast, features older successful home consoles like the original Xbox (XB), Nintendo 64 (N64), and GameCube (GC)."
   ]
  },
  {
   "cell_type": "markdown",
   "id": "0ce398f2-e874-4b8f-b0f3-6755f2de40a2",
   "metadata": {},
   "source": [
    "> Difference 3: Market Scale: The sales figures also indicate that the overall console market size in North America, as represented by these top platforms, is significantly larger than in Europe."
   ]
  },
  {
   "cell_type": "markdown",
   "id": "2e3fbc74-13cc-48ad-9b6f-84582d2be271",
   "metadata": {},
   "source": [
    "## Q3: How many games published by Nintendo are in the Top 100 best-selling games?"
   ]
  },
  {
   "cell_type": "code",
   "execution_count": 13,
   "id": "5b7e4bfa-df78-41fe-94b4-25801028e748",
   "metadata": {},
   "outputs": [
    {
     "name": "stdout",
     "output_type": "stream",
     "text": [
      "In the top 100 best-selling games, there are 52 games published by Nintendo.\n",
      "\n",
      "Here is the list of those games:\n"
     ]
    },
    {
     "data": {
      "text/html": [
       "<div>\n",
       "<style scoped>\n",
       "    .dataframe tbody tr th:only-of-type {\n",
       "        vertical-align: middle;\n",
       "    }\n",
       "\n",
       "    .dataframe tbody tr th {\n",
       "        vertical-align: top;\n",
       "    }\n",
       "\n",
       "    .dataframe thead th {\n",
       "        text-align: right;\n",
       "    }\n",
       "</style>\n",
       "<table border=\"1\" class=\"dataframe\">\n",
       "  <thead>\n",
       "    <tr style=\"text-align: right;\">\n",
       "      <th></th>\n",
       "      <th>Name</th>\n",
       "      <th>Platform</th>\n",
       "      <th>Global_Sales</th>\n",
       "    </tr>\n",
       "  </thead>\n",
       "  <tbody>\n",
       "    <tr>\n",
       "      <th>0</th>\n",
       "      <td>Wii Sports</td>\n",
       "      <td>Wii</td>\n",
       "      <td>82.74</td>\n",
       "    </tr>\n",
       "    <tr>\n",
       "      <th>1</th>\n",
       "      <td>Super Mario Bros.</td>\n",
       "      <td>NES</td>\n",
       "      <td>40.24</td>\n",
       "    </tr>\n",
       "    <tr>\n",
       "      <th>2</th>\n",
       "      <td>Mario Kart Wii</td>\n",
       "      <td>Wii</td>\n",
       "      <td>35.82</td>\n",
       "    </tr>\n",
       "    <tr>\n",
       "      <th>3</th>\n",
       "      <td>Wii Sports Resort</td>\n",
       "      <td>Wii</td>\n",
       "      <td>33.00</td>\n",
       "    </tr>\n",
       "    <tr>\n",
       "      <th>4</th>\n",
       "      <td>Pokemon Red/Pokemon Blue</td>\n",
       "      <td>GB</td>\n",
       "      <td>31.37</td>\n",
       "    </tr>\n",
       "    <tr>\n",
       "      <th>5</th>\n",
       "      <td>Tetris</td>\n",
       "      <td>GB</td>\n",
       "      <td>30.26</td>\n",
       "    </tr>\n",
       "    <tr>\n",
       "      <th>6</th>\n",
       "      <td>New Super Mario Bros.</td>\n",
       "      <td>DS</td>\n",
       "      <td>30.01</td>\n",
       "    </tr>\n",
       "    <tr>\n",
       "      <th>7</th>\n",
       "      <td>Wii Play</td>\n",
       "      <td>Wii</td>\n",
       "      <td>29.02</td>\n",
       "    </tr>\n",
       "    <tr>\n",
       "      <th>8</th>\n",
       "      <td>New Super Mario Bros. Wii</td>\n",
       "      <td>Wii</td>\n",
       "      <td>28.62</td>\n",
       "    </tr>\n",
       "    <tr>\n",
       "      <th>9</th>\n",
       "      <td>Duck Hunt</td>\n",
       "      <td>NES</td>\n",
       "      <td>28.31</td>\n",
       "    </tr>\n",
       "    <tr>\n",
       "      <th>10</th>\n",
       "      <td>Nintendogs</td>\n",
       "      <td>DS</td>\n",
       "      <td>24.76</td>\n",
       "    </tr>\n",
       "    <tr>\n",
       "      <th>11</th>\n",
       "      <td>Mario Kart DS</td>\n",
       "      <td>DS</td>\n",
       "      <td>23.42</td>\n",
       "    </tr>\n",
       "    <tr>\n",
       "      <th>12</th>\n",
       "      <td>Pokemon Gold/Pokemon Silver</td>\n",
       "      <td>GB</td>\n",
       "      <td>23.10</td>\n",
       "    </tr>\n",
       "    <tr>\n",
       "      <th>13</th>\n",
       "      <td>Wii Fit</td>\n",
       "      <td>Wii</td>\n",
       "      <td>22.72</td>\n",
       "    </tr>\n",
       "    <tr>\n",
       "      <th>14</th>\n",
       "      <td>Wii Fit Plus</td>\n",
       "      <td>Wii</td>\n",
       "      <td>22.00</td>\n",
       "    </tr>\n",
       "    <tr>\n",
       "      <th>15</th>\n",
       "      <td>Super Mario World</td>\n",
       "      <td>SNES</td>\n",
       "      <td>20.61</td>\n",
       "    </tr>\n",
       "    <tr>\n",
       "      <th>16</th>\n",
       "      <td>Brain Age: Train Your Brain in Minutes a Day</td>\n",
       "      <td>DS</td>\n",
       "      <td>20.22</td>\n",
       "    </tr>\n",
       "    <tr>\n",
       "      <th>17</th>\n",
       "      <td>Pokemon Diamond/Pokemon Pearl</td>\n",
       "      <td>DS</td>\n",
       "      <td>18.36</td>\n",
       "    </tr>\n",
       "    <tr>\n",
       "      <th>18</th>\n",
       "      <td>Super Mario Land</td>\n",
       "      <td>GB</td>\n",
       "      <td>18.14</td>\n",
       "    </tr>\n",
       "    <tr>\n",
       "      <th>19</th>\n",
       "      <td>Super Mario Bros. 3</td>\n",
       "      <td>NES</td>\n",
       "      <td>17.28</td>\n",
       "    </tr>\n",
       "    <tr>\n",
       "      <th>20</th>\n",
       "      <td>Pokemon Ruby/Pokemon Sapphire</td>\n",
       "      <td>GBA</td>\n",
       "      <td>15.85</td>\n",
       "    </tr>\n",
       "    <tr>\n",
       "      <th>21</th>\n",
       "      <td>Pokemon Black/Pokemon White</td>\n",
       "      <td>DS</td>\n",
       "      <td>15.32</td>\n",
       "    </tr>\n",
       "    <tr>\n",
       "      <th>22</th>\n",
       "      <td>Brain Age 2: More Training in Minutes a Day</td>\n",
       "      <td>DS</td>\n",
       "      <td>15.30</td>\n",
       "    </tr>\n",
       "    <tr>\n",
       "      <th>23</th>\n",
       "      <td>Pokémon Yellow: Special Pikachu Edition</td>\n",
       "      <td>GB</td>\n",
       "      <td>14.64</td>\n",
       "    </tr>\n",
       "    <tr>\n",
       "      <th>24</th>\n",
       "      <td>Pokemon X/Pokemon Y</td>\n",
       "      <td>3DS</td>\n",
       "      <td>14.35</td>\n",
       "    </tr>\n",
       "    <tr>\n",
       "      <th>25</th>\n",
       "      <td>Super Smash Bros. Brawl</td>\n",
       "      <td>Wii</td>\n",
       "      <td>13.04</td>\n",
       "    </tr>\n",
       "    <tr>\n",
       "      <th>26</th>\n",
       "      <td>Animal Crossing: Wild World</td>\n",
       "      <td>DS</td>\n",
       "      <td>12.27</td>\n",
       "    </tr>\n",
       "    <tr>\n",
       "      <th>27</th>\n",
       "      <td>Mario Kart 7</td>\n",
       "      <td>3DS</td>\n",
       "      <td>12.21</td>\n",
       "    </tr>\n",
       "    <tr>\n",
       "      <th>28</th>\n",
       "      <td>Pokemon HeartGold/Pokemon SoulSilver</td>\n",
       "      <td>DS</td>\n",
       "      <td>11.90</td>\n",
       "    </tr>\n",
       "    <tr>\n",
       "      <th>29</th>\n",
       "      <td>Super Mario 64</td>\n",
       "      <td>N64</td>\n",
       "      <td>11.89</td>\n",
       "    </tr>\n",
       "    <tr>\n",
       "      <th>30</th>\n",
       "      <td>Super Mario Galaxy</td>\n",
       "      <td>Wii</td>\n",
       "      <td>11.52</td>\n",
       "    </tr>\n",
       "    <tr>\n",
       "      <th>31</th>\n",
       "      <td>Pokemon Omega Ruby/Pokemon Alpha Sapphire</td>\n",
       "      <td>3DS</td>\n",
       "      <td>11.33</td>\n",
       "    </tr>\n",
       "    <tr>\n",
       "      <th>32</th>\n",
       "      <td>Super Mario Land 2: 6 Golden Coins</td>\n",
       "      <td>GB</td>\n",
       "      <td>11.18</td>\n",
       "    </tr>\n",
       "    <tr>\n",
       "      <th>33</th>\n",
       "      <td>Super Mario 3D Land</td>\n",
       "      <td>3DS</td>\n",
       "      <td>10.79</td>\n",
       "    </tr>\n",
       "    <tr>\n",
       "      <th>34</th>\n",
       "      <td>Super Mario All-Stars</td>\n",
       "      <td>SNES</td>\n",
       "      <td>10.55</td>\n",
       "    </tr>\n",
       "    <tr>\n",
       "      <th>35</th>\n",
       "      <td>Pokemon FireRed/Pokemon LeafGreen</td>\n",
       "      <td>GBA</td>\n",
       "      <td>10.49</td>\n",
       "    </tr>\n",
       "    <tr>\n",
       "      <th>36</th>\n",
       "      <td>Super Mario 64</td>\n",
       "      <td>DS</td>\n",
       "      <td>10.42</td>\n",
       "    </tr>\n",
       "    <tr>\n",
       "      <th>37</th>\n",
       "      <td>Mario Kart 64</td>\n",
       "      <td>N64</td>\n",
       "      <td>9.87</td>\n",
       "    </tr>\n",
       "    <tr>\n",
       "      <th>38</th>\n",
       "      <td>New Super Mario Bros. 2</td>\n",
       "      <td>3DS</td>\n",
       "      <td>9.82</td>\n",
       "    </tr>\n",
       "    <tr>\n",
       "      <th>39</th>\n",
       "      <td>Donkey Kong Country</td>\n",
       "      <td>SNES</td>\n",
       "      <td>9.30</td>\n",
       "    </tr>\n",
       "    <tr>\n",
       "      <th>40</th>\n",
       "      <td>Animal Crossing: New Leaf</td>\n",
       "      <td>3DS</td>\n",
       "      <td>9.09</td>\n",
       "    </tr>\n",
       "    <tr>\n",
       "      <th>41</th>\n",
       "      <td>Mario Party DS</td>\n",
       "      <td>DS</td>\n",
       "      <td>9.02</td>\n",
       "    </tr>\n",
       "    <tr>\n",
       "      <th>42</th>\n",
       "      <td>Super Mario Kart</td>\n",
       "      <td>SNES</td>\n",
       "      <td>8.76</td>\n",
       "    </tr>\n",
       "    <tr>\n",
       "      <th>43</th>\n",
       "      <td>Wii Party</td>\n",
       "      <td>Wii</td>\n",
       "      <td>8.49</td>\n",
       "    </tr>\n",
       "    <tr>\n",
       "      <th>44</th>\n",
       "      <td>Mario Party 8</td>\n",
       "      <td>Wii</td>\n",
       "      <td>8.42</td>\n",
       "    </tr>\n",
       "    <tr>\n",
       "      <th>45</th>\n",
       "      <td>Pokemon Black 2/Pokemon White 2</td>\n",
       "      <td>DS</td>\n",
       "      <td>8.33</td>\n",
       "    </tr>\n",
       "    <tr>\n",
       "      <th>46</th>\n",
       "      <td>GoldenEye 007</td>\n",
       "      <td>N64</td>\n",
       "      <td>8.09</td>\n",
       "    </tr>\n",
       "    <tr>\n",
       "      <th>47</th>\n",
       "      <td>Pokémon Platinum Version</td>\n",
       "      <td>DS</td>\n",
       "      <td>7.84</td>\n",
       "    </tr>\n",
       "    <tr>\n",
       "      <th>48</th>\n",
       "      <td>Super Mario Galaxy 2</td>\n",
       "      <td>Wii</td>\n",
       "      <td>7.69</td>\n",
       "    </tr>\n",
       "    <tr>\n",
       "      <th>49</th>\n",
       "      <td>The Legend of Zelda: Ocarina of Time</td>\n",
       "      <td>N64</td>\n",
       "      <td>7.60</td>\n",
       "    </tr>\n",
       "    <tr>\n",
       "      <th>50</th>\n",
       "      <td>Super Mario Bros. 2</td>\n",
       "      <td>NES</td>\n",
       "      <td>7.46</td>\n",
       "    </tr>\n",
       "    <tr>\n",
       "      <th>51</th>\n",
       "      <td>Super Smash Bros. for Wii U and 3DS</td>\n",
       "      <td>3DS</td>\n",
       "      <td>7.45</td>\n",
       "    </tr>\n",
       "  </tbody>\n",
       "</table>\n",
       "</div>"
      ],
      "text/plain": [
       "                                            Name Platform  Global_Sales\n",
       "0                                     Wii Sports      Wii         82.74\n",
       "1                              Super Mario Bros.      NES         40.24\n",
       "2                                 Mario Kart Wii      Wii         35.82\n",
       "3                              Wii Sports Resort      Wii         33.00\n",
       "4                       Pokemon Red/Pokemon Blue       GB         31.37\n",
       "5                                         Tetris       GB         30.26\n",
       "6                          New Super Mario Bros.       DS         30.01\n",
       "7                                       Wii Play      Wii         29.02\n",
       "8                      New Super Mario Bros. Wii      Wii         28.62\n",
       "9                                      Duck Hunt      NES         28.31\n",
       "10                                    Nintendogs       DS         24.76\n",
       "11                                 Mario Kart DS       DS         23.42\n",
       "12                   Pokemon Gold/Pokemon Silver       GB         23.10\n",
       "13                                       Wii Fit      Wii         22.72\n",
       "14                                  Wii Fit Plus      Wii         22.00\n",
       "15                             Super Mario World     SNES         20.61\n",
       "16  Brain Age: Train Your Brain in Minutes a Day       DS         20.22\n",
       "17                 Pokemon Diamond/Pokemon Pearl       DS         18.36\n",
       "18                              Super Mario Land       GB         18.14\n",
       "19                           Super Mario Bros. 3      NES         17.28\n",
       "20                 Pokemon Ruby/Pokemon Sapphire      GBA         15.85\n",
       "21                   Pokemon Black/Pokemon White       DS         15.32\n",
       "22   Brain Age 2: More Training in Minutes a Day       DS         15.30\n",
       "23       Pokémon Yellow: Special Pikachu Edition       GB         14.64\n",
       "24                           Pokemon X/Pokemon Y      3DS         14.35\n",
       "25                       Super Smash Bros. Brawl      Wii         13.04\n",
       "26                   Animal Crossing: Wild World       DS         12.27\n",
       "27                                  Mario Kart 7      3DS         12.21\n",
       "28          Pokemon HeartGold/Pokemon SoulSilver       DS         11.90\n",
       "29                                Super Mario 64      N64         11.89\n",
       "30                            Super Mario Galaxy      Wii         11.52\n",
       "31     Pokemon Omega Ruby/Pokemon Alpha Sapphire      3DS         11.33\n",
       "32            Super Mario Land 2: 6 Golden Coins       GB         11.18\n",
       "33                           Super Mario 3D Land      3DS         10.79\n",
       "34                         Super Mario All-Stars     SNES         10.55\n",
       "35             Pokemon FireRed/Pokemon LeafGreen      GBA         10.49\n",
       "36                                Super Mario 64       DS         10.42\n",
       "37                                 Mario Kart 64      N64          9.87\n",
       "38                       New Super Mario Bros. 2      3DS          9.82\n",
       "39                           Donkey Kong Country     SNES          9.30\n",
       "40                     Animal Crossing: New Leaf      3DS          9.09\n",
       "41                                Mario Party DS       DS          9.02\n",
       "42                              Super Mario Kart     SNES          8.76\n",
       "43                                     Wii Party      Wii          8.49\n",
       "44                                 Mario Party 8      Wii          8.42\n",
       "45               Pokemon Black 2/Pokemon White 2       DS          8.33\n",
       "46                                 GoldenEye 007      N64          8.09\n",
       "47                      Pokémon Platinum Version       DS          7.84\n",
       "48                          Super Mario Galaxy 2      Wii          7.69\n",
       "49          The Legend of Zelda: Ocarina of Time      N64          7.60\n",
       "50                           Super Mario Bros. 2      NES          7.46\n",
       "51           Super Smash Bros. for Wii U and 3DS      3DS          7.45"
      ]
     },
     "execution_count": 13,
     "metadata": {},
     "output_type": "execute_result"
    }
   ],
   "source": [
    "# First, get the top 100 best-selling games\n",
    "df_sorted = df.sort_values(by='Global_Sales', ascending=False)\n",
    "top_100_games = df_sorted.head(100)\n",
    "\n",
    "# Second, from these 100 games, filter for those published by Nintendo\n",
    "nintendo_in_top_100 = top_100_games[top_100_games['Publisher'] == 'Nintendo']\n",
    "\n",
    "# Get the count\n",
    "nintendo_game_count = len(nintendo_in_top_100)\n",
    "\n",
    "# Display the list of these games\n",
    "print(f\"In the top 100 best-selling games, there are {nintendo_game_count} games published by Nintendo.\")\n",
    "print(\"\\nHere is the list of those games:\")\n",
    "\n",
    "nintendo_in_top_100[['Name', 'Platform', 'Global_Sales']].reset_index(drop=True)\n"
   ]
  },
  {
   "cell_type": "markdown",
   "id": "cc115db4-c2ee-4e7f-9df9-e9cce1ce835d",
   "metadata": {},
   "source": [
    "> **Conclusion for Q3:**\n",
    "> By filtering the top 100 games by global sales, the analysis shows that 52 of them were published by Nintendo. This demonstrates Nintendo's significant presence and success in creating blockbuster titles that achieve massive global popularity."
   ]
  },
  {
   "cell_type": "markdown",
   "id": "6d5364c0-b4a3-4736-8c81-98089dd0c808",
   "metadata": {},
   "source": [
    "## Q4: Is there a trend between the release year and global sales?"
   ]
  },
  {
   "cell_type": "code",
   "execution_count": 14,
   "id": "d2c693c8-4853-4f21-98ab-27147589d688",
   "metadata": {},
   "outputs": [
    {
     "name": "stdout",
     "output_type": "stream",
     "text": [
      "--- Total Global Sales by Year (in Millions) ---\n"
     ]
    },
    {
     "data": {
      "text/plain": [
       "Year\n",
       "1980     11.38\n",
       "1981     35.77\n",
       "1982     28.86\n",
       "1983     16.79\n",
       "1984     50.36\n",
       "1985     53.94\n",
       "1986     37.07\n",
       "1987     21.74\n",
       "1988     47.22\n",
       "1989     73.45\n",
       "1990     49.39\n",
       "1991     32.23\n",
       "1992     76.16\n",
       "1993     45.98\n",
       "1994     79.17\n",
       "1995     88.11\n",
       "1996    199.15\n",
       "1997    200.98\n",
       "1998    256.47\n",
       "1999    251.27\n",
       "2000    201.56\n",
       "2001    331.47\n",
       "2002    395.52\n",
       "2003    357.85\n",
       "2004    414.01\n",
       "2005    458.51\n",
       "2006    521.04\n",
       "2007    609.92\n",
       "2008    678.90\n",
       "2009    667.30\n",
       "2010    600.29\n",
       "2011    515.80\n",
       "2012    363.49\n",
       "2013    368.11\n",
       "2014    337.03\n",
       "2015    264.44\n",
       "2016     70.90\n",
       "2017      0.05\n",
       "2020      0.29\n",
       "Name: Global_Sales, dtype: float64"
      ]
     },
     "execution_count": 14,
     "metadata": {},
     "output_type": "execute_result"
    }
   ],
   "source": [
    "# Group sales data by year and sum them up\n",
    "yearly_sales = df.groupby('Year')['Global_Sales'].sum().sort_index()\n",
    "\n",
    "print(\"--- Total Global Sales by Year (in Millions) ---\")\n",
    "yearly_sales"
   ]
  },
  {
   "cell_type": "code",
   "execution_count": 15,
   "id": "a5902baf-cc20-4494-891c-c45e21645abb",
   "metadata": {},
   "outputs": [
    {
     "data": {
      "image/png": "[encoded data removed]",
      "text/plain": [
       "<Figure size 1500x800 with 1 Axes>"
      ]
     },
     "metadata": {},
     "output_type": "display_data"
    }
   ],
   "source": [
    "plt.figure(figsize=(15,8))\n",
    "\n",
    "sns.lineplot(x=yearly_sales.index, y=yearly_sales.values)\n",
    "\n",
    "plt.title('Trend of Global Video Game Sales Over the Years')\n",
    "plt.xlabel('Year of Release')\n",
    "plt.ylabel('Total Global Sales (in Millions)')\n",
    "\n",
    "plt.grid(True)\n",
    "plt.show()"
   ]
  },
  {
   "cell_type": "markdown",
   "id": "e6eefbe5-2af5-4c19-b959-8500b8e4029d",
   "metadata": {},
   "source": [
    "> **Conclusion for Q4:**\n",
    "> The line plot clearly shows a distinct trend in the video game industry's global sales over the years. The history can be divided into several phases:"
   ]
  },
  {
   "cell_type": "markdown",
   "id": "1435574d-7de1-4b7f-a9d5-ed72035146a5",
   "metadata": {},
   "source": [
    "> The Early Years (Pre-2000s): The industry showed steady but relatively slow growth."
   ]
  },
  {
   "cell_type": "markdown",
   "id": "94fe6008-bb47-4ac8-950b-9b946e37f7de",
   "metadata": {},
   "source": [
    "> The Growth/Golden Age (Approx. 2000-2008): This period witnessed an explosive growth in sales, reaching its peak around 2008. This coincides with the massive success of platforms like the PS2, Xbox 360, and Nintendo Wii."
   ]
  },
  {
   "cell_type": "markdown",
   "id": "4dc87213-1b51-4109-8979-77bbb826746c",
   "metadata": {},
   "source": [
    "> The Decline/Correction (Post-2008): After the peak, there is a noticeable downward trend in sales. "
   ]
  },
  {
   "cell_type": "markdown",
   "id": "b6ce8436-12c9-4628-8450-eef4fc382938",
   "metadata": {},
   "source": [
    "> Important Note: The sharp drop in sales after approximately 2015 is likely due to the dataset being incomplete for the most recent years, rather than an actual market crash. The data was collected around 2016-2017, so data for those later years is not fully represented."
   ]
  }
 ],
 "metadata": {
  "kernelspec": {
   "display_name": "Python 3 (ipykernel)",
   "language": "python",
   "name": "python3"
  },
  "language_info": {
   "codemirror_mode": {
    "name": "ipython",
    "version": 3
   },
   "file_extension": ".py",
   "mimetype": "text/x-python",
   "name": "python",
   "nbconvert_exporter": "python",
   "pygments_lexer": "ipython3",
   "version": "3.13.2"
  }
 },
 "nbformat": 4,
 "nbformat_minor": 5
}
