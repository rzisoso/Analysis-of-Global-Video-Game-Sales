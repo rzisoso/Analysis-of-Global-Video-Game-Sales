{
 "cells": [
  {
   "cell_type": "markdown",
   "id": "25192973-4565-41ef-bd40-20a7d1123f8a",
   "metadata": {},
   "source": [
    "# Analysis of Global Video Game Sales"
   ]
  },
  {
   "cell_type": "code",
   "execution_count": 3,
   "id": "e7895dd6-5a32-48ea-80b0-2c9bc2f88f42",
   "metadata": {},
   "outputs": [],
   "source": [
    "import pandas as pd\n",
    "import numpy as np\n",
    "import matplotlib.pyplot as plt\n",
    "import seaborn as sns"
   ]
  },
  {
   "cell_type": "code",
   "execution_count": 6,
   "id": "fd0a661c-0f08-44d6-84f8-5493dfe82425",
   "metadata": {},
   "outputs": [],
   "source": [
    "df = pd.read_csv('vgsales.csv')"
   ]
  },
  {
   "cell_type": "code",
   "execution_count": 3,
   "id": "17754957-4ff0-4124-9819-10a8cbed0788",
   "metadata": {},
   "outputs": [
    {
     "data": {
      "text/html": [
       "<div>\n",
       "<style scoped>\n",
       "    .dataframe tbody tr th:only-of-type {\n",
       "        vertical-align: middle;\n",
       "    }\n",
       "\n",
       "    .dataframe tbody tr th {\n",
       "        vertical-align: top;\n",
       "    }\n",
       "\n",
       "    .dataframe thead th {\n",
       "        text-align: right;\n",
       "    }\n",
       "</style>\n",
       "<table border=\"1\" class=\"dataframe\">\n",
       "  <thead>\n",
       "    <tr style=\"text-align: right;\">\n",
       "      <th></th>\n",
       "      <th>Rank</th>\n",
       "      <th>Name</th>\n",
       "      <th>Platform</th>\n",
       "      <th>Year</th>\n",
       "      <th>Genre</th>\n",
       "      <th>Publisher</th>\n",
       "      <th>NA_Sales</th>\n",
       "      <th>EU_Sales</th>\n",
       "      <th>JP_Sales</th>\n",
       "      <th>Other_Sales</th>\n",
       "      <th>Global_Sales</th>\n",
       "    </tr>\n",
       "  </thead>\n",
       "  <tbody>\n",
       "    <tr>\n",
       "      <th>0</th>\n",
       "      <td>1</td>\n",
       "      <td>Wii Sports</td>\n",
       "      <td>Wii</td>\n",
       "      <td>2006.0</td>\n",
       "      <td>Sports</td>\n",
       "      <td>Nintendo</td>\n",
       "      <td>41.49</td>\n",
       "      <td>29.02</td>\n",
       "      <td>3.77</td>\n",
       "      <td>8.46</td>\n",
       "      <td>82.74</td>\n",
       "    </tr>\n",
       "    <tr>\n",
       "      <th>1</th>\n",
       "      <td>2</td>\n",
       "      <td>Super Mario Bros.</td>\n",
       "      <td>NES</td>\n",
       "      <td>1985.0</td>\n",
       "      <td>Platform</td>\n",
       "      <td>Nintendo</td>\n",
       "      <td>29.08</td>\n",
       "      <td>3.58</td>\n",
       "      <td>6.81</td>\n",
       "      <td>0.77</td>\n",
       "      <td>40.24</td>\n",
       "    </tr>\n",
       "    <tr>\n",
       "      <th>2</th>\n",
       "      <td>3</td>\n",
       "      <td>Mario Kart Wii</td>\n",
       "      <td>Wii</td>\n",
       "      <td>2008.0</td>\n",
       "      <td>Racing</td>\n",
       "      <td>Nintendo</td>\n",
       "      <td>15.85</td>\n",
       "      <td>12.88</td>\n",
       "      <td>3.79</td>\n",
       "      <td>3.31</td>\n",
       "      <td>35.82</td>\n",
       "    </tr>\n",
       "    <tr>\n",
       "      <th>3</th>\n",
       "      <td>4</td>\n",
       "      <td>Wii Sports Resort</td>\n",
       "      <td>Wii</td>\n",
       "      <td>2009.0</td>\n",
       "      <td>Sports</td>\n",
       "      <td>Nintendo</td>\n",
       "      <td>15.75</td>\n",
       "      <td>11.01</td>\n",
       "      <td>3.28</td>\n",
       "      <td>2.96</td>\n",
       "      <td>33.00</td>\n",
       "    </tr>\n",
       "    <tr>\n",
       "      <th>4</th>\n",
       "      <td>5</td>\n",
       "      <td>Pokemon Red/Pokemon Blue</td>\n",
       "      <td>GB</td>\n",
       "      <td>1996.0</td>\n",
       "      <td>Role-Playing</td>\n",
       "      <td>Nintendo</td>\n",
       "      <td>11.27</td>\n",
       "      <td>8.89</td>\n",
       "      <td>10.22</td>\n",
       "      <td>1.00</td>\n",
       "      <td>31.37</td>\n",
       "    </tr>\n",
       "  </tbody>\n",
       "</table>\n",
       "</div>"
      ],
      "text/plain": [
       "   Rank                      Name Platform    Year         Genre Publisher  \\\n",
       "0     1                Wii Sports      Wii  2006.0        Sports  Nintendo   \n",
       "1     2         Super Mario Bros.      NES  1985.0      Platform  Nintendo   \n",
       "2     3            Mario Kart Wii      Wii  2008.0        Racing  Nintendo   \n",
       "3     4         Wii Sports Resort      Wii  2009.0        Sports  Nintendo   \n",
       "4     5  Pokemon Red/Pokemon Blue       GB  1996.0  Role-Playing  Nintendo   \n",
       "\n",
       "   NA_Sales  EU_Sales  JP_Sales  Other_Sales  Global_Sales  \n",
       "0     41.49     29.02      3.77         8.46         82.74  \n",
       "1     29.08      3.58      6.81         0.77         40.24  \n",
       "2     15.85     12.88      3.79         3.31         35.82  \n",
       "3     15.75     11.01      3.28         2.96         33.00  \n",
       "4     11.27      8.89     10.22         1.00         31.37  "
      ]
     },
     "execution_count": 3,
     "metadata": {},
     "output_type": "execute_result"
    }
   ],
   "source": [
    "df.head()"
   ]
  },
  {
   "cell_type": "code",
   "execution_count": 4,
   "id": "9c7b4b51-b1f5-49e5-885b-942fe6e77f1e",
   "metadata": {},
   "outputs": [
    {
     "name": "stdout",
     "output_type": "stream",
     "text": [
      "<class 'pandas.core.frame.DataFrame'>\n",
      "RangeIndex: 16598 entries, 0 to 16597\n",
      "Data columns (total 11 columns):\n",
      " #   Column        Non-Null Count  Dtype  \n",
      "---  ------        --------------  -----  \n",
      " 0   Rank          16598 non-null  int64  \n",
      " 1   Name          16598 non-null  object \n",
      " 2   Platform      16598 non-null  object \n",
      " 3   Year          16327 non-null  float64\n",
      " 4   Genre         16598 non-null  object \n",
      " 5   Publisher     16540 non-null  object \n",
      " 6   NA_Sales      16598 non-null  float64\n",
      " 7   EU_Sales      16598 non-null  float64\n",
      " 8   JP_Sales      16598 non-null  float64\n",
      " 9   Other_Sales   16598 non-null  float64\n",
      " 10  Global_Sales  16598 non-null  float64\n",
      "dtypes: float64(6), int64(1), object(4)\n",
      "memory usage: 1.4+ MB\n"
     ]
    }
   ],
   "source": [
    "df.info()"
   ]
  },
  {
   "cell_type": "code",
   "execution_count": 5,
   "id": "d411c28d-2d27-416f-9992-749945acc99d",
   "metadata": {},
   "outputs": [
    {
     "data": {
      "text/plain": [
       "Rank              0\n",
       "Name              0\n",
       "Platform          0\n",
       "Year            271\n",
       "Genre             0\n",
       "Publisher        58\n",
       "NA_Sales          0\n",
       "EU_Sales          0\n",
       "JP_Sales          0\n",
       "Other_Sales       0\n",
       "Global_Sales      0\n",
       "dtype: int64"
      ]
     },
     "execution_count": 5,
     "metadata": {},
     "output_type": "execute_result"
    }
   ],
   "source": [
    "df.isnull().sum()"
   ]
  },
  {
   "cell_type": "markdown",
   "id": "1da0fd26-af67-42a1-90f8-423c61a8bf08",
   "metadata": {},
   "source": [
    "## Data Cleaning"
   ]
  },
  {
   "cell_type": "markdown",
   "id": "1c1449c7-78b1-44af-b6d4-f0b4ef10e659",
   "metadata": {},
   "source": [
    "The dataset has a small number of missing values in the 'Year' and 'Publisher' columns (less than 2% of the total data). For this analysis, the simplest and most effective strategy is to drop these rows to ensure data integrity."
   ]
  },
  {
   "cell_type": "code",
   "execution_count": 6,
   "id": "2b265f3f-1c5b-48a3-96ba-d0878e488673",
   "metadata": {},
   "outputs": [],
   "source": [
    "df.dropna(inplace=True)"
   ]
  },
  {
   "cell_type": "code",
   "execution_count": 7,
   "id": "89fae6a2-c0a3-4748-b98c-99ca8bdcdae8",
   "metadata": {},
   "outputs": [],
   "source": [
    "df['Year'] = df['Year'].astype(int)"
   ]
  },
  {
   "cell_type": "code",
   "execution_count": 8,
   "id": "0095e542-de57-4a97-bd98-f1ab2520869e",
   "metadata": {},
   "outputs": [
    {
     "data": {
      "text/plain": [
       "Rank            0\n",
       "Name            0\n",
       "Platform        0\n",
       "Year            0\n",
       "Genre           0\n",
       "Publisher       0\n",
       "NA_Sales        0\n",
       "EU_Sales        0\n",
       "JP_Sales        0\n",
       "Other_Sales     0\n",
       "Global_Sales    0\n",
       "dtype: int64"
      ]
     },
     "execution_count": 8,
     "metadata": {},
     "output_type": "execute_result"
    }
   ],
   "source": [
    "df.isnull().sum()"
   ]
  },
  {
   "cell_type": "markdown",
   "id": "fc3ac0a5-686a-4aab-9858-355a3e38fbb3",
   "metadata": {
    "scrolled": true
   },
   "source": [
    "## Q1：Which gaming platform is the best-selling platform in history?"
   ]
  },
  {
   "cell_type": "code",
   "execution_count": 9,
   "id": "c28b3df3-8871-4bd0-adc9-2df5a3c11404",
   "metadata": {},
   "outputs": [
    {
     "data": {
      "text/plain": [
       "Platform\n",
       "PS2     1233.46\n",
       "X360     969.60\n",
       "PS3      949.35\n",
       "Wii      909.81\n",
       "DS       818.91\n",
       "PS       727.39\n",
       "GBA      305.62\n",
       "PSP      291.71\n",
       "PS4      278.10\n",
       "PC       254.70\n",
       "Name: Global_Sales, dtype: float64"
      ]
     },
     "execution_count": 9,
     "metadata": {},
     "output_type": "execute_result"
    }
   ],
   "source": [
    "platform_sales = df.groupby('Platform')['Global_Sales'].sum().sort_values(ascending=False).head(10)\n",
    "platform_sales"
   ]
  },
  {
   "cell_type": "code",
   "execution_count": 10,
   "id": "3a053308-7323-44d6-9463-dfb2b55888d5",
   "metadata": {},
   "outputs": [
    {
     "data": {
      "image/png": "[encoded data removed]",
      "text/plain": [
       "<Figure size 1200x600 with 1 Axes>"
      ]
     },
     "metadata": {},
     "output_type": "display_data"
    }
   ],
   "source": [
    "plt.figure(figsize=(12, 6))\n",
    "sns.barplot(x=platform_sales.index, y=platform_sales.values)\n",
    "plt.title('Top 10 Gaming Platforms by Global Sales (in Millions)')\n",
    "plt.ylabel('Global Sales')\n",
    "plt.show()"
   ]
  },
  {
   "cell_type": "markdown",
   "id": "481a52ba-4a6a-4f7e-bf8f-322e42b8f982",
   "metadata": {},
   "source": [
    "## Conclusion: The analysis shows that the PlayStation 2 (PS2) is the best-selling platform of all time."
   ]
  },
  {
   "cell_type": "markdown",
   "id": "308a32b3-d7a8-400d-8bae-e2c507af92cb",
   "metadata": {},
   "source": [
    "## Q2： What are the most popular gaming platforms in Europe and North America"
   ]
  },
  {
   "cell_type": "code",
   "execution_count": 7,
   "id": "a62c9245-a152-4d46-9b91-197d40d8e961",
   "metadata": {},
   "outputs": [
    {
     "name": "stdout",
     "output_type": "stream",
     "text": [
      "--- Top 10 Platform in North America (in Millions) ---\n",
      "Platform\n",
      "X360    601.05\n",
      "PS2     583.84\n",
      "Wii     507.71\n",
      "PS3     392.26\n",
      "DS      390.71\n",
      "PS      336.51\n",
      "GBA     187.54\n",
      "XB      186.69\n",
      "N64     139.02\n",
      "GC      133.46\n",
      "Name: NA_Sales, dtype: float64\n",
      "--- Top 10 Platform in Europe (in Millions) ---\n",
      "Platform\n",
      "PS3     343.71\n",
      "PS2     339.29\n",
      "X360    280.58\n",
      "Wii     268.38\n",
      "PS      213.60\n",
      "DS      194.65\n",
      "PC      139.68\n",
      "PS4     123.70\n",
      "GBA      75.25\n",
      "PSP      68.25\n",
      "Name: EU_Sales, dtype: float64\n"
     ]
    }
   ],
   "source": [
    "na_platform_sales = df.groupby('Platform')['NA_Sales'].sum().sort_values(ascending=False).head(10)\n",
    "eu_platform_sales = df.groupby('Platform')['EU_Sales'].sum().sort_values(ascending=False).head(10)\n",
    "\n",
    "print(\"--- Top 10 Platform in North America (in Millions) ---\")\n",
    "print(na_platform_sales)\n",
    "\n",
    "print(\"--- Top 10 Platform in Europe (in Millions) ---\")\n",
    "print(eu_platform_sales)"
   ]
  },
  {
   "cell_type": "code",
   "execution_count": 8,
   "id": "f5637be3-3aaa-4b19-8fa8-fba19b8bb9e7",
   "metadata": {},
   "outputs": [
    {
     "data": {
      "image/png": "[encoded data removed]",
      "text/plain": [
       "<Figure size 1800x800 with 2 Axes>"
      ]
     },
     "metadata": {},
     "output_type": "display_data"
    }
   ],
   "source": [
    "# Create a figure with two subplots(side-by-side)\n",
    "fig, axes = plt.subplots(1, 2, figsize=(18,8))\n",
    "\n",
    "# Plot for North America\n",
    "sns.barplot(ax=axes[0], x=na_platform_sales.index, y=na_platform_sales.values)\n",
    "axes[0].set_title('Top 10 Platforms in North America')\n",
    "axes[0].set_ylabel('Sales (in Millions)')\n",
    "axes[0].tick_params(axis='x', rotation=45) # Rotate labels for better readability\n",
    "\n",
    "# Plot for Europe\n",
    "sns.barplot(ax=axes[1], x=eu_platform_sales.index, y=eu_platform_sales.values)\n",
    "axes[1].set_title('Top 10 Platforms in Europe')\n",
    "axes[1].set_ylabel('Sales (in Millions)')\n",
    "axes[1].tick_params(axis='x', rotation=45)\n",
    "\n",
    "#Display the plots\n",
    "plt.tight_layout() # Adjust layout to prevent labels overlapping\n",
    "plt.show()"
   ]
  },
  {
   "cell_type": "code",
   "execution_count": null,
   "id": "f417231e-ec7b-4c5d-b683-19232b0264a4",
   "metadata": {},
   "outputs": [],
   "source": []
  }
 ],
 "metadata": {
  "kernelspec": {
   "display_name": "Python 3 (ipykernel)",
   "language": "python",
   "name": "python3"
  },
  "language_info": {
   "codemirror_mode": {
    "name": "ipython",
    "version": 3
   },
   "file_extension": ".py",
   "mimetype": "text/x-python",
   "name": "python",
   "nbconvert_exporter": "python",
   "pygments_lexer": "ipython3",
   "version": "3.13.2"
  }
 },
 "nbformat": 4,
 "nbformat_minor": 5
}
